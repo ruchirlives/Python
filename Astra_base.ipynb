{
  "cells": [
    {
      "cell_type": "markdown",
      "metadata": {
        "id": "view-in-github",
        "colab_type": "text"
      },
      "source": [
        "<a href=\"https://colab.research.google.com/github/ruchirlives/Python/blob/main/Astra_base.ipynb\" target=\"_parent\"><img src=\"https://colab.research.google.com/assets/colab-badge.svg\" alt=\"Open In Colab\"/></a>"
      ]
    },
    {
      "cell_type": "markdown",
      "metadata": {
        "id": "BIPAFX2rv06X"
      },
      "source": [
        "# Initialisation"
      ]
    },
    {
      "cell_type": "markdown",
      "source": [
        "## Astra"
      ],
      "metadata": {
        "id": "SxuVqjgcMMzc"
      }
    },
    {
      "cell_type": "code",
      "source": [
        "%pip --quiet install astrapy"
      ],
      "metadata": {
        "colab": {
          "base_uri": "https://localhost:8080/"
        },
        "id": "Sgv7hgxKJ_-j",
        "outputId": "7b09ba39-dd7a-4181-b66f-1a7039769b6c"
      },
      "execution_count": null,
      "outputs": [
        {
          "output_type": "stream",
          "name": "stdout",
          "text": [
            "Installing collected packages: uuid6, hyperframe, hpack, geomet, dnspython, deprecation, pymongo, h2, cassandra-driver, cassio, astrapy\n",
            "Successfully installed astrapy-1.5.0 cassandra-driver-3.29.2 cassio-0.1.9 deprecation-2.1.0 dnspython-2.6.1 geomet-0.2.1.post1 h2-4.1.0 hpack-4.0.0 hyperframe-6.0.1 pymongo-4.9.1 uuid6-2024.7.10\n"
          ]
        }
      ]
    },
    {
      "cell_type": "code",
      "source": [
        "try:\n",
        "    COLLECTION_TO_USE\n",
        "except NameError:\n",
        "    COLLECTION_TO_USE = None\n",
        "    print(\"No collection set\")\n",
        "\n",
        "try:\n",
        "    ASTRA_ENDPOINT\n",
        "except NameError:\n",
        "    ASTRA_ENDPOINT = None\n",
        "    print(\"No API endpoint set\")\n",
        "\n",
        "try:\n",
        "    ASTRA_TOKEN_NAME\n",
        "except NameError:\n",
        "    ASTRA_TOKEN_NAME = None\n",
        "    print(\"No token set\")"
      ],
      "metadata": {
        "id": "QUHF7NoTLxcu"
      },
      "execution_count": null,
      "outputs": []
    },
    {
      "cell_type": "code",
      "source": [
        "from astrapy.db import AstraDB\n",
        "\n",
        "# Initialize the client\n",
        "astradb = AstraDB(\n",
        "    token=userdata.get(ASTRA_TOKEN_NAME),\n",
        "    api_endpoint=ASTRA_ENDPOINT,\n",
        "    namespace=\"default_keyspace\")\n",
        "\n",
        "print(f\"Connected to Astra DB: {astradb.get_collections()}\")\n",
        "\n",
        "if COLLECTION_TO_USE:\n",
        "    collection=astradb.collection(COLLECTION_TO_USE)"
      ],
      "metadata": {
        "colab": {
          "base_uri": "https://localhost:8080/"
        },
        "id": "wDQKunfULxcu",
        "outputId": "bff82d88-1245-4c10-919e-ce247992a3cd"
      },
      "execution_count": null,
      "outputs": [
        {
          "output_type": "stream",
          "name": "stderr",
          "text": [
            "<ipython-input-6-8c44814789f4>:1: DeprecatedWarning: All of 'astrapy.core.*', 'astrapy.api.*', 'astrapy.db.*' and 'astrapy.ops.*' is deprecated as of 1.5.0 and will be removed in 2.0.0. Please refer to https://docs.datastax.com/en/astra-db-serverless/api-reference/dataapiclient.html to start the (recommended) path forward to the current API, and to https://github.com/datastax/astrapy?tab=readme-ov-file#appendix-b-compatibility-with-pre-100-library for details on the deprecated modules.\n",
            "  from astrapy.db import AstraDB\n"
          ]
        },
        {
          "output_type": "stream",
          "name": "stdout",
          "text": [
            "Connected to Astra DB: {'status': {'collections': ['onenote']}}\n"
          ]
        }
      ]
    },
    {
      "cell_type": "code",
      "source": [
        "def getDate(date):\n",
        "    # convert date from format 2022-10-21T13:56:32.503Z to a month in words and year\n",
        "    date = date.split('T')[0]\n",
        "    date = date.split('-')\n",
        "    # convert date[1] to month in words\n",
        "    months = ['January', 'February', 'March', 'April', 'May', 'June', 'July', 'August', 'September', 'October', 'November', 'December']\n",
        "    date[1] = months[int(date[1]) - 1]\n",
        "    month = date[1]\n",
        "    year = date[0]\n",
        "    return {'month':month, 'year':year}\n",
        "\n",
        "def get_financial_year(date):\n",
        "    # convert date from format 2022-10-21T13:56:32.503Z to a month in words and year\n",
        "    date = date.split('T')[0]\n",
        "    date = date.split('-')\n",
        "    # convert date[1] to month in words\n",
        "    months = ['January', 'February', 'March', 'April', 'May', 'June', 'July', 'August', 'September', 'October', 'November', 'December']\n",
        "    date[1] = months[int(date[1]) - 1]\n",
        "    month = date[1]\n",
        "    year = date[0]\n",
        "    if month in ['January', 'February', 'March', 'April']:\n",
        "        year = int(year) - 1\n",
        "    else:\n",
        "        year = int(year)\n",
        "    return year\n",
        "\n",
        "def update_financial_year(collection):\n",
        "    data = collection.find({'FinancialYear':{'$exists':False}})\n",
        "    print(len(data['data']['documents']))\n",
        "\n",
        "    for document in data['data']['documents']:\n",
        "        date = document['createdDateTime']\n",
        "        year = get_financial_year(date)\n",
        "        fields = {\n",
        "            'FinancialYear': year\n",
        "        }\n",
        "        print(document['_id'], year)\n",
        "        collection.update_one({\"_id\":document[\"_id\"]}, {\"$set\":fields},)\n",
        "\n",
        "    return(len(data['data']['documents']))\n",
        "\n",
        "def batch_update_financial_year(collection):\n",
        "    length = 20\n",
        "\n",
        "    while length == 20:\n",
        "        length = update_financial_year(collection)"
      ],
      "metadata": {
        "id": "qyMmdcdGLxcv"
      },
      "execution_count": null,
      "outputs": []
    },
    {
      "cell_type": "markdown",
      "source": [
        "## _List functions in module"
      ],
      "metadata": {
        "id": "KDwN-MPqwu_W"
      }
    },
    {
      "cell_type": "code",
      "source": [
        "# list all functions defined in this module only\n",
        "\n",
        "import inspect\n",
        "import sys\n",
        "\n",
        "# Get the current module\n",
        "current_module = sys.modules[__name__]\n",
        "\n",
        "# List all functions and their arguments defined in this module\n",
        "functions_with_args = {func: str(inspect.signature(getattr(current_module, func)))\n",
        "                       for func in dir(current_module) if inspect.isfunction(getattr(current_module, func))}\n",
        "\n",
        "# Display the function names with their arguments\n",
        "for func, args in functions_with_args.items():\n",
        "    print(f\"{func}{args}\")\n"
      ],
      "metadata": {
        "colab": {
          "base_uri": "https://localhost:8080/"
        },
        "id": "huc80fndwQC_",
        "outputId": "36136c2e-d047-465c-f767-71879d758b7d"
      },
      "execution_count": null,
      "outputs": [
        {
          "output_type": "stream",
          "name": "stdout",
          "text": [
            "['generate_summary', 'get_category', 'get_client', 'get_embeddings', 'get_openai']\n"
          ]
        }
      ]
    }
  ],
  "metadata": {
    "colab": {
      "provenance": [],
      "mount_file_id": "1dKxodd5jpw7axHLT7b8v9-LXdHD7ckP7",
      "authorship_tag": "ABX9TyMb4aBaEc2kW3k5568UmBSF",
      "include_colab_link": true
    },
    "kernelspec": {
      "display_name": "Python 3",
      "name": "python3"
    },
    "language_info": {
      "name": "python"
    }
  },
  "nbformat": 4,
  "nbformat_minor": 0
}